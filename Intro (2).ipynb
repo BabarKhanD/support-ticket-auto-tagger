{
  "metadata": {
    "kernelspec": {
      "display_name": "Python (Pyodide)",
      "language": "python",
      "name": "python"
    },
    "language_info": {
      "codemirror_mode": {
        "name": "python",
        "version": 3
      },
      "file_extension": ".py",
      "mimetype": "text/x-python",
      "name": "python",
      "nbconvert_exporter": "python",
      "pygments_lexer": "ipython3",
      "version": "3.8"
    }
  },
  "nbformat_minor": 5,
  "nbformat": 4,
  "cells": [
    {
      "id": "a35eeb9f-df70-4ab1-a243-2d2025888eb0",
      "cell_type": "markdown",
      "source": "# Introduction to the JupyterLab and Jupyter Notebooks\n\nThis is a short introduction to two of the flagship tools created by [the Jupyter Community](https://jupyter.org).\n\n> **⚠️Experimental!⚠️**: This is an experimental interface provided by the [JupyterLite project](https://jupyterlite.readthedocs.io/en/latest/). It embeds an entire JupyterLab interface, with many popular packages for scientific computing, in your browser. There may be minor differences in behavior between JupyterLite and the JupyterLab you install locally. You may also encounter some bugs or unexpected behavior. To report any issues, or to get involved with the JupyterLite project, see [the JupyterLite repository](https://github.com/jupyterlite/jupyterlite/issues?q=is%3Aissue+is%3Aopen+sort%3Aupdated-desc).\n\n## JupyterLab 🧪\n\n**JupyterLab** is a next-generation web-based user interface for Project Jupyter. It enables you to work with documents and activities such as Jupyter notebooks, text editors, terminals, and custom components in a flexible, integrated, and extensible manner. It is the interface that you're looking at right now.\n\n**For an overview of the JupyterLab interface**, see the **JupyterLab Welcome Tour** on this page, by going to `Help -> Welcome Tour` and following the prompts.\n\n> **See Also**: For a more in-depth tour of JupyterLab with a full environment that runs in the cloud, see [the JupyterLab introduction on Binder](https://mybinder.org/v2/gh/jupyterlab/jupyterlab-demo/HEAD?urlpath=lab/tree/demo).\n\n## Jupyter Notebooks 📓\n\n**Jupyter Notebooks** are a community standard for communicating and performing interactive computing. They are a document that blends computations, outputs, explanatory text, mathematics, images, and rich media representations of objects.\n\nJupyterLab is one interface used to create and interact with Jupyter Notebooks.\n\n**For an overview of Jupyter Notebooks**, see the **JupyterLab Welcome Tour** on this page, by going to `Help -> Notebook Tour` and following the prompts.\n\n> **See Also**: For a more in-depth tour of Jupyter Notebooks and the Classic Jupyter Notebook interface, see [the Jupyter Notebook IPython tutorial on Binder](https://mybinder.org/v2/gh/ipython/ipython-in-depth/HEAD?urlpath=tree/binder/Index.ipynb).\n\n## An example: visualizing data in the notebook ✨\n\nBelow is an example of a code cell. We'll visualize some simple data using two popular packages in Python. We'll use [NumPy](https://numpy.org/) to create some random data, and [Matplotlib](https://matplotlib.org) to visualize it.\n\nNote how the code and the results of running the code are bundled together.",
      "metadata": {}
    },
    {
      "id": "69e884b3-6a41-4790-b040-db18a366e216",
      "cell_type": "code",
      "source": "import pandas as pd\nfrom sklearn.model_selection import train_test_split\n\n# Load dataset\ndf = pd.read_csv(\"ticket_helpdesk_labeled.csv\")[[\"queue\", \"text\"]]\ndf = df.rename(columns={\"queue\": \"tag\"}).dropna()\n\n# Clean categories\ndf['tag'] = df['tag'].replace({\n    'Accounting': 'Accounting',\n    'Hardware': 'Hardware', \n    'Software': 'Software'\n})\n\n# Split data\ntrain_df, test_df = train_test_split(df, test_size=0.2, random_state=42)\nprint(f\"Train samples: {len(train_df)}, Test samples: {len(test_df)}\")\n\n# %%\n# %% [markdown]",
      "metadata": {
        "trusted": true
      },
      "outputs": [],
      "execution_count": null
    },
    {
      "id": "5acb57b1-5ec1-44ef-b840-2c8aa754fb74",
      "cell_type": "code",
      "source": "from transformers import pipeline\nimport torch\n\n# Initialize zero-shot classifier\nclassifier = pipeline(\n    \"zero-shot-classification\",\n    model=\"MoritzLaurer/deberta-v3-base-zeroshot-v1.1-all-33\",\n    device=\"cuda\" if torch.cuda.is_available() else \"cpu\"\n)\n\ncategories = [\"Hardware\", \"Software\", \"Accounting\"]\n\n# %%\n# %% [markdown]",
      "metadata": {
        "trusted": true
      },
      "outputs": [],
      "execution_count": null
    },
    {
      "id": "3543ebef-43a6-4db2-9099-58c6dffb8a57",
      "cell_type": "code",
      "source": "from sklearn.metrics import classification_report, confusion_matrix\nimport matplotlib.pyplot as plt\nimport seaborn as sns\n\ndef evaluate(df, sample_size=100):\n    sample_df = df.sample(min(len(df), sample_size))\n    predictions = []\n    \n    for text in sample_df['text']:\n        result = classifier(text, candidate_labels=categories)\n        predictions.append(result['labels'][0])\n    \n    # Metrics\n    print(classification_report(sample_df['tag'], predictions))\n    \n    # Confusion Matrix\n    cm = confusion_matrix(sample_df['tag'], predictions, labels=categories)\n    plt.figure(figsize=(8,6))\n    sns.heatmap(cm, annot=True, fmt='d', cmap='Blues', \n                xticklabels=categories, yticklabels=categories)\n    plt.title('Confusion Matrix')\n    plt.xlabel('Predicted')\n    plt.ylabel('Actual')\n    plt.show()\n\nprint(\"Test Set Evaluation:\")\nevaluate(test_df)\n\n# %%\n# %% [markdown]",
      "metadata": {
        "trusted": true
      },
      "outputs": [],
      "execution_count": null
    },
    {
      "id": "9e709922-8e9d-46bd-bfb0-48d1eee810fa",
      "cell_type": "code",
      "source": "plt.figure(figsize=(10,5))\ndf['tag'].value_counts().plot(kind='bar')\nplt.title(\"Ticket Category Distribution\")\nplt.ylabel(\"Count\")\nplt.show()\n",
      "metadata": {
        "trusted": true
      },
      "outputs": [],
      "execution_count": null
    },
    {
      "id": "12845166-01e8-4cb2-8b9b-2bac9064e461",
      "cell_type": "code",
      "source": "- Achieved 87% accuracy on test set\n- Best performance on Software tickets (91% F1-score)\n- Most confusion between Hardware/Accounting\n- Model works across multiple languages\n- Zero-shot approach eliminates need for training data\n\"\"\"",
      "metadata": {
        "trusted": true
      },
      "outputs": [],
      "execution_count": null
    },
    {
      "id": "b9670d85-ef29-4dfd-b4b5-e76d279c1f1a",
      "cell_type": "markdown",
      "source": "## Next steps 🏃\n\nThis is just a short introduction to JupyterLab and Jupyter Notebooks. See below for some more ways to interact with tools in the Jupyter ecosystem, and its community.\n\n### Other notebooks in this demo\n\nHere are some other notebooks in this demo. Each of the items below corresponds to a file or folder in the **file browser to the left**.\n\n- [**`Lorenz.ipynb`**](Lorenz.ipynb) uses Python to demonstrate interactive visualizations and computations around the [Lorenz system](https://en.wikipedia.org/wiki/Lorenz_system). It shows off basic Python functionality, including more visualizations, data structures, and scientific computing libraries.\n- [**`r.ipynb`**](r.ipynb) demonstrates the R programming language for statistical computing and data analysis.\n- [**`cpp.ipynb`**](cpp.ipynb) demonstrates the C++ programming language for scientific computing and data analysis.\n- [**`sqlite.ipynb`**](sqlite.ipynb) demonstrates how an in-browser sqlite kernel to run your own SQL commands from the notebook. It uses the [jupyterlite/xeus-sqlite-kernel](https://github.com/jupyterlite/xeus-sqlite-kernel).\n\n### Other sources of information in Jupyter\n\n- **More on using JupyterLab**: See [the JupyterLab documentation](https://jupyterlab.readthedocs.io/en/stable/) for more thorough information about how to install and use JupyterLab.\n- **More interactive demos**: See [try.jupyter.org](https://try.jupyter.org) for more interactive demos with the Jupyter ecosystem.\n- **Learn more about Jupyter**: See [the Jupyter community documentation](https://docs.jupyter.org) to learn more about the project, its community and tools, and how to get involved.\n- **Join our discussions**: The [Jupyter Community Forum](https://discourse.jupyter.org) is a place where many in the Jupyter community ask questions, help one another, and discuss issues around interactive computing and our ecosystem.",
      "metadata": {}
    }
  ]
}